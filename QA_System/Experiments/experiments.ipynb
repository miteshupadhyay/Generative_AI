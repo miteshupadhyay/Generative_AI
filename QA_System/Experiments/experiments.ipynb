{
 "cells": [
  {
   "cell_type": "code",
   "execution_count": 1,
   "id": "b66f9595",
   "metadata": {},
   "outputs": [
    {
     "data": {
      "text/plain": [
       "True"
      ]
     },
     "execution_count": 1,
     "metadata": {},
     "output_type": "execute_result"
    }
   ],
   "source": [
    "import os\n",
    "from dotenv import load_dotenv\n",
    "load_dotenv()"
   ]
  },
  {
   "cell_type": "code",
   "execution_count": 2,
   "id": "257c4798",
   "metadata": {},
   "outputs": [],
   "source": [
    "google_api_key = os.getenv(\"GOOGLE_API_KEY\")"
   ]
  },
  {
   "cell_type": "code",
   "execution_count": 3,
   "id": "be272b78",
   "metadata": {},
   "outputs": [
    {
     "name": "stdout",
     "output_type": "stream",
     "text": [
      "api key found\n"
     ]
    }
   ],
   "source": [
    "if google_api_key==\"\":\n",
    "    print(\"api key not found\")\n",
    "else:\n",
    "    print(\"api key found\")"
   ]
  },
  {
   "cell_type": "code",
   "execution_count": 5,
   "id": "3bf36b02",
   "metadata": {},
   "outputs": [],
   "source": [
    "from llama_index.core import SimpleDirectoryReader\n",
    "from llama_index.core import VectorStoreIndex\n",
    "from llama_index.llms.gemini import Gemini\n",
    "from IPython.display import Markdown, display\n",
    "from llama_index.core import ServiceContext\n",
    "from llama_index.core import StorageContext, load_index_from_storage\n",
    "import google.generativeai as genai\n",
    "from llama_index.embeddings.gemini import GeminiEmbedding\n",
    "#from llama_index.core.settings import Settings\n",
    "genai.configure(api_key=google_api_key)"
   ]
  },
  {
   "cell_type": "code",
   "execution_count": 7,
   "id": "21f7ac56",
   "metadata": {},
   "outputs": [
    {
     "name": "stdout",
     "output_type": "stream",
     "text": [
      "models/gemini-1.5-pro-latest\n",
      "models/gemini-1.5-pro-002\n",
      "models/gemini-1.5-pro\n",
      "models/gemini-1.5-flash-latest\n",
      "models/gemini-1.5-flash\n",
      "models/gemini-1.5-flash-002\n",
      "models/gemini-1.5-flash-8b\n",
      "models/gemini-1.5-flash-8b-001\n",
      "models/gemini-1.5-flash-8b-latest\n",
      "models/gemini-2.5-pro-preview-03-25\n",
      "models/gemini-2.5-flash-preview-05-20\n",
      "models/gemini-2.5-flash\n",
      "models/gemini-2.5-flash-lite-preview-06-17\n",
      "models/gemini-2.5-pro-preview-05-06\n",
      "models/gemini-2.5-pro-preview-06-05\n",
      "models/gemini-2.5-pro\n",
      "models/gemini-2.0-flash-exp\n",
      "models/gemini-2.0-flash\n",
      "models/gemini-2.0-flash-001\n",
      "models/gemini-2.0-flash-exp-image-generation\n",
      "models/gemini-2.0-flash-lite-001\n",
      "models/gemini-2.0-flash-lite\n",
      "models/gemini-2.0-flash-preview-image-generation\n",
      "models/gemini-2.0-flash-lite-preview-02-05\n",
      "models/gemini-2.0-flash-lite-preview\n",
      "models/gemini-2.0-pro-exp\n",
      "models/gemini-2.0-pro-exp-02-05\n",
      "models/gemini-exp-1206\n",
      "models/gemini-2.0-flash-thinking-exp-01-21\n",
      "models/gemini-2.0-flash-thinking-exp\n",
      "models/gemini-2.0-flash-thinking-exp-1219\n",
      "models/gemini-2.5-flash-preview-tts\n",
      "models/gemini-2.5-pro-preview-tts\n",
      "models/learnlm-2.0-flash-experimental\n",
      "models/gemma-3-1b-it\n",
      "models/gemma-3-4b-it\n",
      "models/gemma-3-12b-it\n",
      "models/gemma-3-27b-it\n",
      "models/gemma-3n-e4b-it\n",
      "models/gemma-3n-e2b-it\n",
      "models/gemini-2.5-flash-lite\n"
     ]
    }
   ],
   "source": [
    "for models in genai.list_models():\n",
    "    if 'generateContent' in models.supported_generation_methods:\n",
    "        print(models.name)"
   ]
  },
  {
   "cell_type": "code",
   "execution_count": 8,
   "id": "5927e6a1",
   "metadata": {},
   "outputs": [
    {
     "data": {
      "text/plain": [
       "'text to text'"
      ]
     },
     "execution_count": 8,
     "metadata": {},
     "output_type": "execute_result"
    }
   ],
   "source": [
    "\"\"\"text to text\"\"\""
   ]
  },
  {
   "cell_type": "markdown",
   "id": "0cf04c5c",
   "metadata": {},
   "source": [
    "# Reading the data from folder"
   ]
  },
  {
   "cell_type": "code",
   "execution_count": 30,
   "id": "908483c2",
   "metadata": {},
   "outputs": [],
   "source": [
    "document = SimpleDirectoryReader(\"../data\")"
   ]
  },
  {
   "cell_type": "code",
   "execution_count": 11,
   "id": "100890ab",
   "metadata": {},
   "outputs": [],
   "source": [
    "doc  = document.load_data()"
   ]
  },
  {
   "cell_type": "code",
   "execution_count": 13,
   "id": "62540e2d",
   "metadata": {},
   "outputs": [
    {
     "name": "stdout",
     "output_type": "stream",
     "text": [
      "What is machine learning?\n",
      "Machine learning is a branch of artificial intelligence (AI) and computer science which\n",
      "focuses on the use of data and algorithms to imitate the way that humans learn,\n",
      "gradually improving its accuracy.\n",
      "IBM has a rich history with machine learning. One of its own, Arthur Samuel, is credited\n",
      "for coining the term, “machine learning” with his research (link resides outside ibm.com)\n",
      "around the game of checkers. Robert Nealey, the self-proclaimed checkers master,\n",
      "played the game on an IBM 7094 computer in 1962, and he lost to the computer.\n",
      "Compared to what can be done today, this feat seems trivial, but it’s considered a major\n",
      "milestone in the field of artificial intelligence.\n",
      "Over the last couple of decades, the technological advances in storage and processing\n",
      "power have enabled some innovative products based on machine learning, such as\n",
      "Netflix’s recommendation engine and self-driving cars.\n",
      "Machine learning is an important component of the growing field of data science.\n",
      "Through the use of statistical methods, algorithms are trained to make classifications or\n",
      "predictions, and to uncover key insights in data mining projects. These insights\n",
      "subsequently drive decision making within applications and businesses, ideally\n",
      "impacting key growth metrics. As big data continues to expand and grow, the market\n",
      "demand for new data scientists will increase. They will be required to help identify the\n",
      "most relevant business questions and the data to answer them.\n",
      "Machine learning algorithms are typically created using frameworks such as Python that\n",
      "accelerate solution development by using platforms like TensorFlow or PyTorch.\n",
      "Now available: watsonx.ai\n",
      "The all-new enterprise studio that brings together traditional machine learning along\n",
      "with new generative AI capabilities powered by foundation models.\n",
      "Try watsonx.ai\n",
      "Begin your journey to AI\n",
      "Learn how to scale AI\n",
      "Explore the AI Academy\n",
      "Machine Learning vs. Deep Learning vs. Neural Networks\n",
      "Since deep learning and machine learning tend to be used interchangeably, it’s worth\n",
      "noting the nuances between the two. Machine learning, deep learning, and neural\n",
      "networks are all sub-fields of artificial intelligence. However, neural networks is actually\n",
      "a sub-field of machine learning, and deep learning is a sub-field of neural networks.\n",
      "The way in which deep learning and machine learning differ is in how each algorithm\n",
      "learns. \"Deep\" machine learning can use labeled datasets, also known as supervised\n",
      "learning, to inform its algorithm, but it doesn’t necessarily require a labeled dataset. The\n",
      "deep learning process can ingest unstructured data in its raw form (e.g., text or images),\n",
      "and it can automatically determine the set of features which distinguish different\n",
      "categories of data from one another. This eliminates some of the human intervention\n",
      "required and enables the use of large amounts of data. You can think of deep learning\n",
      "as \"scalable machine learning\" as Lex Fridman notes in this MIT lecture (link resides\n",
      "outside ibm.com).\n",
      "Classical, or \"non-deep,\" machine learning is more dependent on human intervention to\n",
      "learn. Human experts determine the set of features to understand the differences\n",
      "between data inputs, usually requiring more structured data to learn.\n",
      "Neural networks, or artificial neural networks (ANNs), are comprised of node layers,\n",
      "containing an input layer, one or more hidden layers, and an output layer. Each node, or\n",
      "artificial neuron, connects to another and has an associated weight and threshold. If the\n",
      "output of any individual node is above the specified threshold value, that node is\n",
      "activated, sending data to the next layer of the network. Otherwise, no data is passed\n",
      "along to the next layer of the network by that node. The “deep” in deep learning is just\n",
      "referring to the number of layers in a neural network. A neural network that consists of\n",
      "more than three layers—which would be inclusive of the input and the output—can be\n",
      "considered a deep learning algorithm or a deep neural network. A neural network that\n",
      "only has three layers is just a basic neural network.\n",
      "Deep learning and neural networks are credited with accelerating progress in areas\n",
      "such as computer vision, natural language processing, and speech recognition.\n",
      "See the blog post “AI vs. Machine Learning vs. Deep Learning vs. Neural Networks:\n",
      "What’s the Difference?” for a closer look at how the different concepts relate.\n",
      "Related content\n",
      "Explore the watsonx.ai interactive demo\n",
      "Download “Machine learning for Dummies”\n",
      "- This link downloads a pdf\n",
      "Explore Gen AI for developers\n",
      "How does machine learning work?\n",
      "UC Berkeley (link resides outside ibm.com) breaks out the learning system of a\n",
      "machine learning algorithm into three main parts.\n",
      "A Decision Process: In general, machine learning algorithms are used to make a\n",
      "prediction or classification. Based on some input data, which can be labeled or\n",
      "unlabeled, your algorithm will produce an estimate about a pattern in the data.\n",
      "An Error Function: An error function evaluates the prediction of the model. If\n",
      "there are known examples, an error function can make a comparison to assess\n",
      "the accuracy of the model.\n",
      "A Model Optimization Process: If the model can fit better to the data points in the\n",
      "training set, then weights are adjusted to reduce the discrepancy between the\n",
      "known example and the model estimate. The algorithm will repeat this iterative\n",
      "“evaluate and optimize” process, updating weights autonomously until a\n",
      "threshold of accuracy has been met.\n",
      "Machine learning methods\n",
      "Machine learning models fall into three primary categories.\n",
      "Supervised machine learning\n",
      "Supervised learning, also known as supervised machine learning, is defined by its use\n",
      "of labeled datasets to train algorithms to classify data or predict outcomes accurately.\n",
      "As input data is fed into the model, the model adjusts its weights until it has been fitted\n",
      "appropriately. This occurs as part of the cross validation process to ensure that the\n",
      "model avoids overfitting or underfitting. Supervised learning helps organizations solve a\n",
      "variety of real-world problems at scale, such as classifying spam in a separate folder\n",
      "from your inbox. Some methods used in supervised learning include neural networks,\n",
      "naïve bayes, linear regression, logistic regression, random forest, and support vector\n",
      "machine (SVM).\n",
      "Unsupervised machine learning\n",
      "Unsupervised learning, also known as unsupervised machine learning, uses machine\n",
      "learning algorithms to analyze and cluster unlabeled datasets (subsets called clusters).\n",
      "These algorithms discover hidden patterns or data groupings without the need for\n",
      "human intervention. This method’s ability to discover similarities and differences in\n",
      "information make it ideal for exploratory data analysis, cross-selling strategies,\n",
      "customer segmentation, and image and pattern recognition. It’s also used to reduce the\n",
      "number of features in a model through the process of dimensionality reduction. Principal\n",
      "component analysis (PCA) and singular value decomposition (SVD) are two common\n",
      "approaches for this. Other algorithms used in unsupervised learning include neural\n",
      "networks, k-means clustering, and probabilistic clustering methods.\n",
      "Semi-supervised learning\n",
      "Semi-supervised learning offers a happy medium between supervised and\n",
      "unsupervised learning. During training, it uses a smaller labeled data set to guide\n",
      "classification and feature extraction from a larger, unlabeled data set. Semi-supervised\n",
      "learning can solve the problem of not having enough labeled data for a supervised\n",
      "learning algorithm. It also helps if it’s too costly to label enough data.\n",
      "For a deep dive into the differences between these approaches, check out \"Supervised\n",
      "vs. Unsupervised Learning: What's the Difference?\"\n",
      "Reinforcement machine learning\n",
      "Reinforcement machine learning is a machine learning model that is similar to\n",
      "supervised learning, but the algorithm isn’t trained using sample data. This model learns\n",
      "as it goes by using trial and error. A sequence of successful outcomes will be reinforced\n",
      "to develop the best recommendation or policy for a given problem.\n",
      "The IBM Watson® system that won the Jeopardy! challenge in 2011 is a good example.\n",
      "The system used reinforcement learning to learn when to attempt an answer (or\n",
      "question, as it were), which square to select on the board, and how much to\n",
      "wager—especially on daily doubles.\n",
      "Learn more about reinforcement learning\n",
      "Common machine learning algorithms\n",
      "A number of machine learning algorithms are commonly used. These include:\n",
      "Neural networks: Neural networks simulate the way the human brain works, with\n",
      "a huge number of linked processing nodes. Neural networks are good at\n",
      "recognizing patterns and play an important role in applications including natural\n",
      "language translation, image recognition, speech recognition, and image creation.\n",
      "Linear regression: This algorithm is used to predict numerical values, based on a\n",
      "linear relationship between different values. For example, the technique could be\n",
      "used to predict house prices based on historical data for the area.\n",
      "Logistic regression: This supervised learning algorithm makes predictions for\n",
      "categorical response variables, such as “yes/no” answers to questions. It can be\n",
      "used for applications such as classifying spam and quality control on a\n",
      "production line.\n",
      "Clustering: Using unsupervised learning, clustering algorithms can identify\n",
      "patterns in data so that it can be grouped. Computers can help data scientists by\n",
      "identifying differences between data items that humans have overlooked.\n",
      "Decision trees: Decision trees can be used for both predicting numerical values\n",
      "(regression) and classifying data into categories. Decision trees use a branching\n",
      "sequence of linked decisions that can be represented with a tree diagram. One of\n",
      "the advantages of decision trees is that they are easy to validate and audit,\n",
      "unlike the black box of the neural network.\n",
      "Random forests: In a random forest, the machine learning algorithm predicts a\n",
      "value or category by combining the results from a number of decision trees.\n",
      "Advantages and disadvantages of machine learning algorithms\n",
      "Depending on your budget, need for speed and precision required, each algorithm\n",
      "type—supervised, unsupervised, semi-supervised, or reinforcement—has its own\n",
      "advantages and disadvantages. For example, decision tree algorithms are used for both\n",
      "predicting numerical values (regression problems) and classifying data into categories.\n",
      "Decision trees use a branching sequence of linked decisions that may be represented\n",
      "with a tree diagram. A prime advantage of decision trees is that they are easier to\n",
      "validate and audit than a neural network. The bad news is that they can be more\n",
      "unstable than other decision predictors.\n",
      "Overall, there are many advantages to machine learning that businesses can leverage\n",
      "for new efficiencies. These include machine learning identifying patterns and trends in\n",
      "massive volumes of data that humans might not spot at all. And this analysis requires\n",
      "little human intervention: just feed in the dataset of interest and let the machine learning\n",
      "system assemble and refine its own algorithms—which will continually improve with\n",
      "more data input over time. Customers and users can enjoy a more personalized\n",
      "experience as the model learns more with every experience with that person.\n",
      "On the downside, machine learning requires large training datasets that are accurate\n",
      "and unbiased. GIGO is the operative factor: garbage in / garbage out. Gathering\n",
      "sufficient data and having a system robust enough to run it might also be a drain on\n",
      "resources. Machine learning can also be prone to error, depending on the input. With\n",
      "too small a sample, the system could produce a perfectly logical algorithm that is\n",
      "completely wrong or misleading. To avoid wasting budget or displeasing customers,\n",
      "organizations should act on the answers only when there is high confidence in the\n",
      "output.\n",
      "Real-world machine learning use cases\n",
      "Here are just a few examples of machine learning you might encounter every day:\n",
      "Speech recognition: It is also known as automatic speech recognition (ASR), computer\n",
      "speech recognition, or speech-to-text, and it is a capability which uses natural language\n",
      "processing (NLP) to translate human speech into a written format. Many mobile devices\n",
      "incorporate speech recognition into their systems to conduct voice search—e.g. Siri—or\n",
      "improve accessibility for texting.\n",
      "Customer service: Online chatbots are replacing human agents along the customer\n",
      "journey, changing the way we think about customer engagement across websites and\n",
      "social media platforms. Chatbots answer frequently asked questions (FAQs) about\n",
      "topics such as shipping, or provide personalized advice, cross-selling products or\n",
      "suggesting sizes for users. Examples include virtual agents on e-commerce sites;\n",
      "messaging bots, using Slack and Facebook Messenger; and tasks usually done by\n",
      "virtual assistants and voice assistants.\n",
      "Computer vision: This AI technology enables computers to derive meaningful\n",
      "information from digital images, videos, and other visual inputs, and then take the\n",
      "appropriate action. Powered by convolutional neural networks, computer vision has\n",
      "applications in photo tagging on social media, radiology imaging in healthcare, and\n",
      "self-driving cars in the automotive industry.\n",
      "Recommendation engines: Using past consumption behavior data, AI algorithms can\n",
      "help to discover data trends that can be used to develop more effective cross-selling\n",
      "strategies. Recommendation engines are used by online retailers to make relevant\n",
      "product recommendations to customers during the checkout process.\n",
      "Robotic process automation (RPA): Also known as software robotics, RPA uses\n",
      "intelligent automation technologies to perform repetitive manual tasks.\n",
      "Automated stock trading: Designed to optimize stock portfolios, AI-driven\n",
      "high-frequency trading platforms make thousands or even millions of trades per day\n",
      "without human intervention.\n",
      "Fraud detection: Banks and other financial institutions can use machine learning to spot\n",
      "suspicious transactions. Supervised learning can train a model using information about\n",
      "known fraudulent transactions. Anomaly detection can identify transactions that look\n",
      "atypical and deserve further investigation.\n",
      "Challenges of machine learning\n",
      "As machine learning technology has developed, it has certainly made our lives easier.\n",
      "However, implementing machine learning in businesses has also raised a number of\n",
      "ethical concerns about AI technologies. Some of these include:\n",
      "Technological singularity\n",
      "While this topic garners a lot of public attention, many researchers are not concerned\n",
      "with the idea of AI surpassing human intelligence in the near future. Technological\n",
      "singularity is also referred to as strong AI or superintelligence. Philosopher Nick\n",
      "Bostrum defines superintelligence as “any intellect that vastly outperforms the best\n",
      "human brains in practically every field, including scientific creativity, general wisdom,\n",
      "and social skills.” Despite the fact that superintelligence is not imminent in society, the\n",
      "idea of it raises some interesting questions as we consider the use of autonomous\n",
      "systems, like self-driving cars. It’s unrealistic to think that a driverless car would never\n",
      "have an accident, but who is responsible and liable under those circumstances? Should\n",
      "we still develop autonomous vehicles, or do we limit this technology to\n",
      "semi-autonomous vehicles which help people drive safely? The jury is still out on this,\n",
      "but these are the types of ethical debates that are occurring as new, innovative AI\n",
      "technology develops.\n",
      "AI impact on jobs\n",
      "While a lot of public perception of artificial intelligence centers around job losses, this\n",
      "concern should probably be reframed. With every disruptive, new technology, we see\n",
      "that the market demand for specific job roles shifts. For example, when we look at the\n",
      "automotive industry, many manufacturers, like GM, are shifting to focus on electric\n",
      "vehicle production to align with green initiatives. The energy industry isn’t going away,\n",
      "but the source of energy is shifting from a fuel economy to an electric one.\n",
      "In a similar way, artificial intelligence will shift the demand for jobs to other areas. There\n",
      "will need to be individuals to help manage AI systems. There will still need to be people\n",
      "to address more complex problems within the industries that are most likely to be\n",
      "affected by job demand shifts, such as customer service. The biggest challenge with\n",
      "artificial intelligence and its effect on the job market will be helping people to transition\n",
      "to new roles that are in demand.\n",
      "Privacy\n",
      "Privacy tends to be discussed in the context of data privacy, data protection, and data\n",
      "security. These concerns have allowed policymakers to make more strides in recent\n",
      "years. For example, in 2016, GDPR legislation was created to protect the personal data\n",
      "of people in the European Union and European Economic Area, giving individuals more\n",
      "control of their data. In the United States, individual states are developing policies, such\n",
      "as the California Consumer Privacy Act (CCPA), which was introduced in 2018 and\n",
      "requires businesses to inform consumers about the collection of their data. Legislation\n",
      "such as this has forced companies to rethink how they store and use personally\n",
      "identifiable information (PII). As a result, investments in security have become an\n",
      "increasing priority for businesses as they seek to eliminate any vulnerabilities and\n",
      "opportunities for surveillance, hacking, and cyberattacks.\n",
      "Bias and discrimination\n",
      "Instances of bias and discrimination across a number of machine learning systems have\n",
      "raised many ethical questions regarding the use of artificial intelligence. How can we\n",
      "safeguard against bias and discrimination when the training data itself may be\n",
      "generated by biased human processes? While companies typically have good\n",
      "intentions for their automation efforts, Reuters (link resides outside ibm.com) highlights\n",
      "some of the unforeseen consequences of incorporating AI into hiring practices. In their\n",
      "effort to automate and simplify a process, Amazon unintentionally discriminated against\n",
      "job candidates by gender for technical roles, and the company ultimately had to scrap\n",
      "the project. Harvard Business Review (link resides outside ibm.com) has raised other\n",
      "pointed questions about the use of AI in hiring practices, such as what data you should\n",
      "be able to use when evaluating a candidate for a role.\n",
      "Bias and discrimination aren’t limited to the human resources function either; they can\n",
      "be found in a number of applications from facial recognition software to social media\n",
      "algorithms.\n",
      "As businesses become more aware of the risks with AI, they’ve also become more\n",
      "active in this discussion around AI ethics and values. For example, IBM has sunset its\n",
      "general purpose facial recognition and analysis products. IBM CEO Arvind Krishna\n",
      "wrote: “IBM firmly opposes and will not condone uses of any technology, including facial\n",
      "recognition technology offered by other vendors, for mass surveillance, racial profiling,\n",
      "violations of basic human rights and freedoms, or any purpose which is not consistent\n",
      "with our values and Principles of Trust and Transparency.”\n",
      "Accountability\n",
      "Since there isn’t significant legislation to regulate AI practices, there is no real\n",
      "enforcement mechanism to ensure that ethical AI is practiced. The current incentives for\n",
      "companies to be ethical are the negative repercussions of an unethical AI system on the\n",
      "bottom line. To fill the gap, ethical frameworks have emerged as part of a collaboration\n",
      "between ethicists and researchers to govern the construction and distribution of AI\n",
      "models within society. However, at the moment, these only serve to guide. Some\n",
      "research (link resides outside ibm.com) shows that the combination of distributed\n",
      "responsibility and a lack of foresight into potential consequences aren’t conducive to\n",
      "preventing harm to society.\n",
      "Read more about IBM's position on AI Ethics\n",
      "How to choose the right AI platform for machine learning\n",
      "Selecting a platform can be a challenging process, as the wrong system can drive up\n",
      "costs, or limit the use of other valuable tools or technologies. When reviewing multiple\n",
      "vendors to select an AI platform, there is often a tendency to think that more features =\n",
      "a better system. Maybe so, but reviewers should start by thinking through what the AI\n",
      "platform will be doing for their organization. What machine learning capabilities need to\n",
      "be delivered and what features are important to accomplish them? One missing feature\n",
      "might doom the usefulness of an entire system. Here are some features to consider.\n",
      "MLOps capabilities. Does the system have:\n",
      "a unified interface for ease of management?\n",
      "automated machine learning tools for faster model creation with low-code\n",
      "and no-code functionality?\n",
      "decision optimization to streamline the selection and deployment of\n",
      "optimization models?\n",
      "visual modeling to combine visual data science with open-source libraries\n",
      "and notebook-based interfaces on a unified data and AI studio?\n",
      "automated development for beginners to get started quickly and more\n",
      "advanced data scientists to experiment?\n",
      "synthetic data generator as an alternative or supplement to real-world data\n",
      "when real-world data is not readily available?\n",
      "Generative AI capabilities. Does the system have:\n",
      "a content generator that can generate text, images and other content\n",
      "based on the data it was trained on?\n",
      "automated classification to read and classify written input, such as\n",
      "evaluating and sorting customer complaints or reviewing customer\n",
      "feedback sentiment?\n",
      "a summary generator that can transform dense text into a high-quality\n",
      "summary, capture key points from financial reports, and generate meeting\n",
      "transcriptions?\n",
      "a data extraction capability to sort through complex details and quickly pull\n",
      "the necessary information from large documents?\n"
     ]
    }
   ],
   "source": [
    "print(doc[0].text)"
   ]
  },
  {
   "cell_type": "code",
   "execution_count": 18,
   "id": "06a3cf80",
   "metadata": {},
   "outputs": [
    {
     "name": "stderr",
     "output_type": "stream",
     "text": [
      "C:\\Users\\HP\\AppData\\Local\\Temp\\ipykernel_21708\\4148756438.py:1: DeprecationWarning: Call to deprecated class GeminiEmbedding. (Should use `llama-index-embeddings-google-genai` instead, using Google's latest unified SDK. See: https://docs.llamaindex.ai/en/stable/examples/embeddings/google_genai/)\n",
      "  gemini_embed_model=GeminiEmbedding(model_name=\"models/embedding-001\")\n"
     ]
    }
   ],
   "source": [
    "gemini_embed_model=GeminiEmbedding(model_name=\"models/embedding-001\")"
   ]
  },
  {
   "cell_type": "code",
   "execution_count": 19,
   "id": "c03b669b",
   "metadata": {},
   "outputs": [
    {
     "name": "stderr",
     "output_type": "stream",
     "text": [
      "C:\\Users\\HP\\AppData\\Local\\Temp\\ipykernel_21708\\916109220.py:1: DeprecationWarning: Call to deprecated class Gemini. (Should use `llama-index-llms-google-genai` instead, using Google's latest unified SDK. See: https://docs.llamaindex.ai/en/stable/examples/llm/google_genai/)\n",
      "  model = Gemini(models=\"gemini-pro\",api_key=google_api_key)\n"
     ]
    }
   ],
   "source": [
    "model = Gemini(models=\"gemini-pro\",api_key=google_api_key)"
   ]
  },
  {
   "cell_type": "code",
   "execution_count": 24,
   "id": "03fe23f7",
   "metadata": {},
   "outputs": [],
   "source": [
    "from llama_index.core.settings import Settings\n",
    "\n",
    "\n",
    "Settings.llm = model\n",
    "Settings.embed_model = gemini_embed_model\n",
    "Settings.chunk_size = 800\n",
    "Settings.chunk_overlap = 20\n"
   ]
  },
  {
   "cell_type": "code",
   "execution_count": 31,
   "id": "08dc9533",
   "metadata": {},
   "outputs": [],
   "source": [
    "index = VectorStoreIndex.from_documents(doc)"
   ]
  },
  {
   "cell_type": "code",
   "execution_count": 32,
   "id": "d2ca5c2e",
   "metadata": {},
   "outputs": [],
   "source": [
    "index.storage_context.persist()"
   ]
  },
  {
   "cell_type": "code",
   "execution_count": 33,
   "id": "827a4705",
   "metadata": {},
   "outputs": [],
   "source": [
    "query_engine =index.as_query_engine()"
   ]
  },
  {
   "cell_type": "code",
   "execution_count": 35,
   "id": "12cf0b2b",
   "metadata": {},
   "outputs": [
    {
     "data": {
      "text/plain": [
       "Response(response='Machine learning is a field of study within artificial intelligence (AI) and computer science that centers on employing data and algorithms to replicate human learning processes, with the goal of enhancing accuracy over time.\\n', source_nodes=[NodeWithScore(node=TextNode(id_='4cd8cd56-02be-45bc-b3d3-9532d0bfde99', embedding=None, metadata={'file_path': 'c:\\\\workspace\\\\Generative_AI\\\\QA_System\\\\notebook\\\\..\\\\data\\\\MLDOC.txt', 'file_name': 'MLDOC.txt', 'file_type': 'text/plain', 'file_size': 22273, 'creation_date': '2025-07-31', 'last_modified_date': '2025-07-31'}, excluded_embed_metadata_keys=['file_name', 'file_type', 'file_size', 'creation_date', 'last_modified_date', 'last_accessed_date'], excluded_llm_metadata_keys=['file_name', 'file_type', 'file_size', 'creation_date', 'last_modified_date', 'last_accessed_date'], relationships={<NodeRelationship.SOURCE: '1'>: RelatedNodeInfo(node_id='cccaf578-d7d0-46ca-8bcd-f6a56e73c599', node_type='4', metadata={'file_path': 'c:\\\\workspace\\\\Generative_AI\\\\QA_System\\\\notebook\\\\..\\\\data\\\\MLDOC.txt', 'file_name': 'MLDOC.txt', 'file_type': 'text/plain', 'file_size': 22273, 'creation_date': '2025-07-31', 'last_modified_date': '2025-07-31'}, hash='cc12ef498034880c1d49eeef356c08fcf16162c0b034313957b9a5624a3df22c'), <NodeRelationship.NEXT: '3'>: RelatedNodeInfo(node_id='d5ee425f-8dcd-445d-b66d-cfb107ac5dcc', node_type='1', metadata={}, hash='da4b0a65bcfd680c8c54c87bf6847f30f2c5103ee574a13630a98f177b7a65bf')}, metadata_template='{key}: {value}', metadata_separator='\\n', text='What is machine learning?\\r\\nMachine learning is a branch of artificial intelligence (AI) and computer science which\\r\\nfocuses on the use of data and algorithms to imitate the way that humans learn,\\r\\ngradually improving its accuracy.\\r\\nIBM has a rich history with machine learning. One of its own, Arthur Samuel, is credited\\r\\nfor coining the term, “machine learning” with his research (link resides outside ibm.com)\\r\\naround the game of checkers. Robert Nealey, the self-proclaimed checkers master,\\r\\nplayed the game on an IBM 7094 computer in 1962, and he lost to the computer.\\r\\nCompared to what can be done today, this feat seems trivial, but it’s considered a major\\r\\nmilestone in the field of artificial intelligence.\\r\\nOver the last couple of decades, the technological advances in storage and processing\\r\\npower have enabled some innovative products based on machine learning, such as\\r\\nNetflix’s recommendation engine and self-driving cars.\\r\\nMachine learning is an important component of the growing field of data science.\\r\\nThrough the use of statistical methods, algorithms are trained to make classifications or\\r\\npredictions, and to uncover key insights in data mining projects. These insights\\r\\nsubsequently drive decision making within applications and businesses, ideally\\r\\nimpacting key growth metrics. As big data continues to expand and grow, the market\\r\\ndemand for new data scientists will increase. They will be required to help identify the\\r\\nmost relevant business questions and the data to answer them.\\r\\nMachine learning algorithms are typically created using frameworks such as Python that\\r\\naccelerate solution development by using platforms like TensorFlow or PyTorch.\\r\\nNow available: watsonx.ai\\r\\nThe all-new enterprise studio that brings together traditional machine learning along\\r\\nwith new generative AI capabilities powered by foundation models.\\r\\nTry watsonx.ai\\r\\nBegin your journey to AI\\r\\nLearn how to scale AI\\r\\nExplore the AI Academy\\r\\nMachine Learning vs. Deep Learning vs. Neural Networks\\r\\nSince deep learning and machine learning tend to be used interchangeably, it’s worth\\r\\nnoting the nuances between the two. Machine learning, deep learning, and neural\\r\\nnetworks are all sub-fields of artificial intelligence. However, neural networks is actually\\r\\na sub-field of machine learning, and deep learning is a sub-field of neural networks.\\r\\nThe way in which deep learning and machine learning differ is in how each algorithm\\r\\nlearns. \"Deep\" machine learning can use labeled datasets, also known as supervised\\r\\nlearning, to inform its algorithm, but it doesn’t necessarily require a labeled dataset. The\\r\\ndeep learning process can ingest unstructured data in its raw form (e.g., text or images),\\r\\nand it can automatically determine the set of features which distinguish different\\r\\ncategories of data from one another. This eliminates some of the human intervention\\r\\nrequired and enables the use of large amounts of data. You can think of deep learning\\r\\nas \"scalable machine learning\" as Lex Fridman notes in this MIT lecture (link resides\\r\\noutside ibm.com).\\r\\nClassical, or \"non-deep,\" machine learning is more dependent on human intervention to\\r\\nlearn. Human experts determine the set of features to understand the differences\\r\\nbetween data inputs, usually requiring more structured data to learn.\\r\\nNeural networks, or artificial neural networks (ANNs), are comprised of node layers,\\r\\ncontaining an input layer, one or more hidden layers, and an output layer. Each node, or\\r\\nartificial neuron, connects to another and has an associated weight and threshold. If the\\r\\noutput of any individual node is above the specified threshold value, that node is\\r\\nactivated, sending data to the next layer of the network. Otherwise, no data is passed\\r\\nalong to the next layer of the network by that node.', mimetype='text/plain', start_char_idx=0, end_char_idx=3801, metadata_seperator='\\n', text_template='{metadata_str}\\n\\n{content}'), score=0.7167956008525553), NodeWithScore(node=TextNode(id_='d5ee425f-8dcd-445d-b66d-cfb107ac5dcc', embedding=None, metadata={'file_path': 'c:\\\\workspace\\\\Generative_AI\\\\QA_System\\\\notebook\\\\..\\\\data\\\\MLDOC.txt', 'file_name': 'MLDOC.txt', 'file_type': 'text/plain', 'file_size': 22273, 'creation_date': '2025-07-31', 'last_modified_date': '2025-07-31'}, excluded_embed_metadata_keys=['file_name', 'file_type', 'file_size', 'creation_date', 'last_modified_date', 'last_accessed_date'], excluded_llm_metadata_keys=['file_name', 'file_type', 'file_size', 'creation_date', 'last_modified_date', 'last_accessed_date'], relationships={<NodeRelationship.SOURCE: '1'>: RelatedNodeInfo(node_id='cccaf578-d7d0-46ca-8bcd-f6a56e73c599', node_type='4', metadata={'file_path': 'c:\\\\workspace\\\\Generative_AI\\\\QA_System\\\\notebook\\\\..\\\\data\\\\MLDOC.txt', 'file_name': 'MLDOC.txt', 'file_type': 'text/plain', 'file_size': 22273, 'creation_date': '2025-07-31', 'last_modified_date': '2025-07-31'}, hash='cc12ef498034880c1d49eeef356c08fcf16162c0b034313957b9a5624a3df22c'), <NodeRelationship.PREVIOUS: '2'>: RelatedNodeInfo(node_id='4cd8cd56-02be-45bc-b3d3-9532d0bfde99', node_type='1', metadata={'file_path': 'c:\\\\workspace\\\\Generative_AI\\\\QA_System\\\\notebook\\\\..\\\\data\\\\MLDOC.txt', 'file_name': 'MLDOC.txt', 'file_type': 'text/plain', 'file_size': 22273, 'creation_date': '2025-07-31', 'last_modified_date': '2025-07-31'}, hash='d740f39b941826eb0ef7ef25727caf42a453cb3ba8d72931e6a23fef862b2f73'), <NodeRelationship.NEXT: '3'>: RelatedNodeInfo(node_id='40ac4fe1-c215-42fa-b5af-7a7361c9c340', node_type='1', metadata={}, hash='8bb9ede5383886b0ffb54fd2024c60b9885e69ed6371e1c315379374b4c4be08')}, metadata_template='{key}: {value}', metadata_separator='\\n', text='Otherwise, no data is passed\\r\\nalong to the next layer of the network by that node. The “deep” in deep learning is just\\r\\nreferring to the number of layers in a neural network. A neural network that consists of\\r\\nmore than three layers—which would be inclusive of the input and the output—can be\\r\\nconsidered a deep learning algorithm or a deep neural network. A neural network that\\r\\nonly has three layers is just a basic neural network.\\r\\nDeep learning and neural networks are credited with accelerating progress in areas\\r\\nsuch as computer vision, natural language processing, and speech recognition.\\r\\nSee the blog post “AI vs. Machine Learning vs. Deep Learning vs. Neural Networks:\\r\\nWhat’s the Difference?” for a closer look at how the different concepts relate.\\r\\nRelated content\\r\\nExplore the watsonx.ai interactive demo\\r\\nDownload “Machine learning for Dummies”\\r\\n- This link downloads a pdf\\r\\nExplore Gen AI for developers\\r\\nHow does machine learning work?\\r\\nUC Berkeley (link resides outside ibm.com) breaks out the learning system of a\\r\\nmachine learning algorithm into three main parts.\\r\\nA Decision Process: In general, machine learning algorithms are used to make a\\r\\nprediction or classification. Based on some input data, which can be labeled or\\r\\nunlabeled, your algorithm will produce an estimate about a pattern in the data.\\r\\nAn Error Function: An error function evaluates the prediction of the model. If\\r\\nthere are known examples, an error function can make a comparison to assess\\r\\nthe accuracy of the model.\\r\\nA Model Optimization Process: If the model can fit better to the data points in the\\r\\ntraining set, then weights are adjusted to reduce the discrepancy between the\\r\\nknown example and the model estimate. The algorithm will repeat this iterative\\r\\n“evaluate and optimize” process, updating weights autonomously until a\\r\\nthreshold of accuracy has been met.\\r\\nMachine learning methods\\r\\nMachine learning models fall into three primary categories.\\r\\nSupervised machine learning\\r\\nSupervised learning, also known as supervised machine learning, is defined by its use\\r\\nof labeled datasets to train algorithms to classify data or predict outcomes accurately.\\r\\nAs input data is fed into the model, the model adjusts its weights until it has been fitted\\r\\nappropriately. This occurs as part of the cross validation process to ensure that the\\r\\nmodel avoids overfitting or underfitting. Supervised learning helps organizations solve a\\r\\nvariety of real-world problems at scale, such as classifying spam in a separate folder\\r\\nfrom your inbox. Some methods used in supervised learning include neural networks,\\r\\nnaïve bayes, linear regression, logistic regression, random forest, and support vector\\r\\nmachine (SVM).\\r\\nUnsupervised machine learning\\r\\nUnsupervised learning, also known as unsupervised machine learning, uses machine\\r\\nlearning algorithms to analyze and cluster unlabeled datasets (subsets called clusters).\\r\\nThese algorithms discover hidden patterns or data groupings without the need for\\r\\nhuman intervention. This method’s ability to discover similarities and differences in\\r\\ninformation make it ideal for exploratory data analysis, cross-selling strategies,\\r\\ncustomer segmentation, and image and pattern recognition. It’s also used to reduce the\\r\\nnumber of features in a model through the process of dimensionality reduction. Principal\\r\\ncomponent analysis (PCA) and singular value decomposition (SVD) are two common\\r\\napproaches for this. Other algorithms used in unsupervised learning include neural\\r\\nnetworks, k-means clustering, and probabilistic clustering methods.\\r\\nSemi-supervised learning\\r\\nSemi-supervised learning offers a happy medium between supervised and\\r\\nunsupervised learning. During training, it uses a smaller labeled data set to guide\\r\\nclassification and feature extraction from a larger, unlabeled data set.', mimetype='text/plain', start_char_idx=3719, end_char_idx=7545, metadata_seperator='\\n', text_template='{metadata_str}\\n\\n{content}'), score=0.7019914930149305)], metadata={'4cd8cd56-02be-45bc-b3d3-9532d0bfde99': {'file_path': 'c:\\\\workspace\\\\Generative_AI\\\\QA_System\\\\notebook\\\\..\\\\data\\\\MLDOC.txt', 'file_name': 'MLDOC.txt', 'file_type': 'text/plain', 'file_size': 22273, 'creation_date': '2025-07-31', 'last_modified_date': '2025-07-31'}, 'd5ee425f-8dcd-445d-b66d-cfb107ac5dcc': {'file_path': 'c:\\\\workspace\\\\Generative_AI\\\\QA_System\\\\notebook\\\\..\\\\data\\\\MLDOC.txt', 'file_name': 'MLDOC.txt', 'file_type': 'text/plain', 'file_size': 22273, 'creation_date': '2025-07-31', 'last_modified_date': '2025-07-31'}})"
      ]
     },
     "execution_count": 35,
     "metadata": {},
     "output_type": "execute_result"
    }
   ],
   "source": [
    "query_engine.query(\"What is Machine Learning\")"
   ]
  },
  {
   "cell_type": "code",
   "execution_count": 36,
   "id": "094781cc",
   "metadata": {},
   "outputs": [
    {
     "data": {
      "text/plain": [
       "Response(response=\"I'm sorry, but the context provided does not contain any information about Mahendra Singh Dhoni.\\n\", source_nodes=[NodeWithScore(node=TextNode(id_='4cd8cd56-02be-45bc-b3d3-9532d0bfde99', embedding=None, metadata={'file_path': 'c:\\\\workspace\\\\Generative_AI\\\\QA_System\\\\notebook\\\\..\\\\data\\\\MLDOC.txt', 'file_name': 'MLDOC.txt', 'file_type': 'text/plain', 'file_size': 22273, 'creation_date': '2025-07-31', 'last_modified_date': '2025-07-31'}, excluded_embed_metadata_keys=['file_name', 'file_type', 'file_size', 'creation_date', 'last_modified_date', 'last_accessed_date'], excluded_llm_metadata_keys=['file_name', 'file_type', 'file_size', 'creation_date', 'last_modified_date', 'last_accessed_date'], relationships={<NodeRelationship.SOURCE: '1'>: RelatedNodeInfo(node_id='cccaf578-d7d0-46ca-8bcd-f6a56e73c599', node_type='4', metadata={'file_path': 'c:\\\\workspace\\\\Generative_AI\\\\QA_System\\\\notebook\\\\..\\\\data\\\\MLDOC.txt', 'file_name': 'MLDOC.txt', 'file_type': 'text/plain', 'file_size': 22273, 'creation_date': '2025-07-31', 'last_modified_date': '2025-07-31'}, hash='cc12ef498034880c1d49eeef356c08fcf16162c0b034313957b9a5624a3df22c'), <NodeRelationship.NEXT: '3'>: RelatedNodeInfo(node_id='d5ee425f-8dcd-445d-b66d-cfb107ac5dcc', node_type='1', metadata={}, hash='da4b0a65bcfd680c8c54c87bf6847f30f2c5103ee574a13630a98f177b7a65bf')}, metadata_template='{key}: {value}', metadata_separator='\\n', text='What is machine learning?\\r\\nMachine learning is a branch of artificial intelligence (AI) and computer science which\\r\\nfocuses on the use of data and algorithms to imitate the way that humans learn,\\r\\ngradually improving its accuracy.\\r\\nIBM has a rich history with machine learning. One of its own, Arthur Samuel, is credited\\r\\nfor coining the term, “machine learning” with his research (link resides outside ibm.com)\\r\\naround the game of checkers. Robert Nealey, the self-proclaimed checkers master,\\r\\nplayed the game on an IBM 7094 computer in 1962, and he lost to the computer.\\r\\nCompared to what can be done today, this feat seems trivial, but it’s considered a major\\r\\nmilestone in the field of artificial intelligence.\\r\\nOver the last couple of decades, the technological advances in storage and processing\\r\\npower have enabled some innovative products based on machine learning, such as\\r\\nNetflix’s recommendation engine and self-driving cars.\\r\\nMachine learning is an important component of the growing field of data science.\\r\\nThrough the use of statistical methods, algorithms are trained to make classifications or\\r\\npredictions, and to uncover key insights in data mining projects. These insights\\r\\nsubsequently drive decision making within applications and businesses, ideally\\r\\nimpacting key growth metrics. As big data continues to expand and grow, the market\\r\\ndemand for new data scientists will increase. They will be required to help identify the\\r\\nmost relevant business questions and the data to answer them.\\r\\nMachine learning algorithms are typically created using frameworks such as Python that\\r\\naccelerate solution development by using platforms like TensorFlow or PyTorch.\\r\\nNow available: watsonx.ai\\r\\nThe all-new enterprise studio that brings together traditional machine learning along\\r\\nwith new generative AI capabilities powered by foundation models.\\r\\nTry watsonx.ai\\r\\nBegin your journey to AI\\r\\nLearn how to scale AI\\r\\nExplore the AI Academy\\r\\nMachine Learning vs. Deep Learning vs. Neural Networks\\r\\nSince deep learning and machine learning tend to be used interchangeably, it’s worth\\r\\nnoting the nuances between the two. Machine learning, deep learning, and neural\\r\\nnetworks are all sub-fields of artificial intelligence. However, neural networks is actually\\r\\na sub-field of machine learning, and deep learning is a sub-field of neural networks.\\r\\nThe way in which deep learning and machine learning differ is in how each algorithm\\r\\nlearns. \"Deep\" machine learning can use labeled datasets, also known as supervised\\r\\nlearning, to inform its algorithm, but it doesn’t necessarily require a labeled dataset. The\\r\\ndeep learning process can ingest unstructured data in its raw form (e.g., text or images),\\r\\nand it can automatically determine the set of features which distinguish different\\r\\ncategories of data from one another. This eliminates some of the human intervention\\r\\nrequired and enables the use of large amounts of data. You can think of deep learning\\r\\nas \"scalable machine learning\" as Lex Fridman notes in this MIT lecture (link resides\\r\\noutside ibm.com).\\r\\nClassical, or \"non-deep,\" machine learning is more dependent on human intervention to\\r\\nlearn. Human experts determine the set of features to understand the differences\\r\\nbetween data inputs, usually requiring more structured data to learn.\\r\\nNeural networks, or artificial neural networks (ANNs), are comprised of node layers,\\r\\ncontaining an input layer, one or more hidden layers, and an output layer. Each node, or\\r\\nartificial neuron, connects to another and has an associated weight and threshold. If the\\r\\noutput of any individual node is above the specified threshold value, that node is\\r\\nactivated, sending data to the next layer of the network. Otherwise, no data is passed\\r\\nalong to the next layer of the network by that node.', mimetype='text/plain', start_char_idx=0, end_char_idx=3801, metadata_seperator='\\n', text_template='{metadata_str}\\n\\n{content}'), score=0.5597096873788464), NodeWithScore(node=TextNode(id_='f6c35e9a-08a1-444a-8520-dd9b02c77a63', embedding=None, metadata={'file_path': 'c:\\\\workspace\\\\Generative_AI\\\\QA_System\\\\notebook\\\\..\\\\data\\\\MLDOC.txt', 'file_name': 'MLDOC.txt', 'file_type': 'text/plain', 'file_size': 22273, 'creation_date': '2025-07-31', 'last_modified_date': '2025-07-31'}, excluded_embed_metadata_keys=['file_name', 'file_type', 'file_size', 'creation_date', 'last_modified_date', 'last_accessed_date'], excluded_llm_metadata_keys=['file_name', 'file_type', 'file_size', 'creation_date', 'last_modified_date', 'last_accessed_date'], relationships={<NodeRelationship.SOURCE: '1'>: RelatedNodeInfo(node_id='cccaf578-d7d0-46ca-8bcd-f6a56e73c599', node_type='4', metadata={'file_path': 'c:\\\\workspace\\\\Generative_AI\\\\QA_System\\\\notebook\\\\..\\\\data\\\\MLDOC.txt', 'file_name': 'MLDOC.txt', 'file_type': 'text/plain', 'file_size': 22273, 'creation_date': '2025-07-31', 'last_modified_date': '2025-07-31'}, hash='cc12ef498034880c1d49eeef356c08fcf16162c0b034313957b9a5624a3df22c'), <NodeRelationship.PREVIOUS: '2'>: RelatedNodeInfo(node_id='d9a747c9-c3b5-41be-ad1e-460ee076f305', node_type='1', metadata={'file_path': 'c:\\\\workspace\\\\Generative_AI\\\\QA_System\\\\notebook\\\\..\\\\data\\\\MLDOC.txt', 'file_name': 'MLDOC.txt', 'file_type': 'text/plain', 'file_size': 22273, 'creation_date': '2025-07-31', 'last_modified_date': '2025-07-31'}, hash='3c298466d6934bae491e84aedc73d746ddda9b03836db38eb174dccecf6061c0')}, metadata_template='{key}: {value}', metadata_separator='\\n', text=\"For example, IBM has sunset its\\r\\ngeneral purpose facial recognition and analysis products. IBM CEO Arvind Krishna\\r\\nwrote: “IBM firmly opposes and will not condone uses of any technology, including facial\\r\\nrecognition technology offered by other vendors, for mass surveillance, racial profiling,\\r\\nviolations of basic human rights and freedoms, or any purpose which is not consistent\\r\\nwith our values and Principles of Trust and Transparency.”\\r\\nAccountability\\r\\nSince there isn’t significant legislation to regulate AI practices, there is no real\\r\\nenforcement mechanism to ensure that ethical AI is practiced. The current incentives for\\r\\ncompanies to be ethical are the negative repercussions of an unethical AI system on the\\r\\nbottom line. To fill the gap, ethical frameworks have emerged as part of a collaboration\\r\\nbetween ethicists and researchers to govern the construction and distribution of AI\\r\\nmodels within society. However, at the moment, these only serve to guide. Some\\r\\nresearch (link resides outside ibm.com) shows that the combination of distributed\\r\\nresponsibility and a lack of foresight into potential consequences aren’t conducive to\\r\\npreventing harm to society.\\r\\nRead more about IBM's position on AI Ethics\\r\\nHow to choose the right AI platform for machine learning\\r\\nSelecting a platform can be a challenging process, as the wrong system can drive up\\r\\ncosts, or limit the use of other valuable tools or technologies. When reviewing multiple\\r\\nvendors to select an AI platform, there is often a tendency to think that more features =\\r\\na better system. Maybe so, but reviewers should start by thinking through what the AI\\r\\nplatform will be doing for their organization. What machine learning capabilities need to\\r\\nbe delivered and what features are important to accomplish them? One missing feature\\r\\nmight doom the usefulness of an entire system. Here are some features to consider.\\r\\nMLOps capabilities. Does the system have:\\r\\na unified interface for ease of management?\\r\\nautomated machine learning tools for faster model creation with low-code\\r\\nand no-code functionality?\\r\\ndecision optimization to streamline the selection and deployment of\\r\\noptimization models?\\r\\nvisual modeling to combine visual data science with open-source libraries\\r\\nand notebook-based interfaces on a unified data and AI studio?\\r\\nautomated development for beginners to get started quickly and more\\r\\nadvanced data scientists to experiment?\\r\\nsynthetic data generator as an alternative or supplement to real-world data\\r\\nwhen real-world data is not readily available?\\r\\nGenerative AI capabilities. Does the system have:\\r\\na content generator that can generate text, images and other content\\r\\nbased on the data it was trained on?\\r\\nautomated classification to read and classify written input, such as\\r\\nevaluating and sorting customer complaints or reviewing customer\\r\\nfeedback sentiment?\\r\\na summary generator that can transform dense text into a high-quality\\r\\nsummary, capture key points from financial reports, and generate meeting\\r\\ntranscriptions?\\r\\na data extraction capability to sort through complex details and quickly pull\\r\\nthe necessary information from large documents?\", mimetype='text/plain', start_char_idx=19038, end_char_idx=22193, metadata_seperator='\\n', text_template='{metadata_str}\\n\\n{content}'), score=0.5490485482607887)], metadata={'4cd8cd56-02be-45bc-b3d3-9532d0bfde99': {'file_path': 'c:\\\\workspace\\\\Generative_AI\\\\QA_System\\\\notebook\\\\..\\\\data\\\\MLDOC.txt', 'file_name': 'MLDOC.txt', 'file_type': 'text/plain', 'file_size': 22273, 'creation_date': '2025-07-31', 'last_modified_date': '2025-07-31'}, 'f6c35e9a-08a1-444a-8520-dd9b02c77a63': {'file_path': 'c:\\\\workspace\\\\Generative_AI\\\\QA_System\\\\notebook\\\\..\\\\data\\\\MLDOC.txt', 'file_name': 'MLDOC.txt', 'file_type': 'text/plain', 'file_size': 22273, 'creation_date': '2025-07-31', 'last_modified_date': '2025-07-31'}})"
      ]
     },
     "execution_count": 36,
     "metadata": {},
     "output_type": "execute_result"
    }
   ],
   "source": [
    "query_engine.query(\"Who is mahendra singh dhoni\")"
   ]
  },
  {
   "cell_type": "code",
   "execution_count": null,
   "id": "0b2f3bad",
   "metadata": {},
   "outputs": [],
   "source": []
  }
 ],
 "metadata": {
  "kernelspec": {
   "display_name": "Python 3",
   "language": "python",
   "name": "python3"
  },
  "language_info": {
   "codemirror_mode": {
    "name": "ipython",
    "version": 3
   },
   "file_extension": ".py",
   "mimetype": "text/x-python",
   "name": "python",
   "nbconvert_exporter": "python",
   "pygments_lexer": "ipython3",
   "version": "3.11.13"
  }
 },
 "nbformat": 4,
 "nbformat_minor": 5
}
